{
  "nbformat": 4,
  "nbformat_minor": 0,
  "metadata": {
    "colab": {
      "name": "Arsha B Anil.ipynb",
      "provenance": []
    },
    "kernelspec": {
      "name": "python3",
      "display_name": "Python 3"
    },
    "language_info": {
      "name": "python"
    }
  },
  "cells": [
    {
      "cell_type": "code",
      "metadata": {
        "colab": {
          "base_uri": "https://localhost:8080/"
        },
        "id": "kngREv997dTW",
        "outputId": "8fe33c58-f29d-402c-b754-0e83c07a24f5"
      },
      "source": [
        "import numpy as np\n",
        "\n",
        "import pandas as pd\n",
        "\n",
        "import sklearn\n",
        "\n",
        "from sklearn.datasets import load_boston\n",
        "\n",
        "df = load_boston()\n",
        "\n",
        "df.keys()\n",
        "\n",
        "print(df. feature_names)\n",
        "boston= pd.DataFrame(df.data, columns=df.feature_names)\n",
        "\n",
        "boston.head()\n",
        "\n",
        "boston['MEDV']= df.target\n",
        "\n",
        "boston.head()\n",
        "\n",
        "boston.isnull()\n",
        "\n",
        "boston.isnull().sum()\n",
        "\n",
        "from sklearn.model_selection import train_test_split\n",
        "\n",
        "X = boston.drop('MEDV', axis=1)\n",
        "\n",
        "Y = boston ['MEDV']\n",
        "\n",
        "X_train,X_test,Y_train,Y_test = train_test_split(X,Y,test_size=0.15, random_state=5)\n",
        "\n",
        "print(X_train.shape)\n",
        "\n",
        "print(X_test. shape)\n",
        "\n",
        "print(Y_train.shape) \n",
        "\n",
        "print(Y_test.shape)\n",
        "\n",
        "from sklearn.linear_model import LinearRegression \n",
        "\n",
        "from sklearn.metrics import mean_squared_error\n",
        "\n",
        "lin_model = LinearRegression()\n",
        "\n",
        "lin_model.fit(X_train,Y_train)\n",
        "\n",
        "Y_train_predict = lin_model.predict(X_train)\n",
        "\n",
        "rmse = (np.sqrt(mean_squared_error(Y_train,Y_train_predict))) \n",
        "\n",
        "print(\"THE MODEL PERFORMANCE FOR TRAINING SET\")\n",
        "\n",
        "print('RMSE IS {}'.format(rmse))\n",
        "\n",
        "print(\"\\n\")\n",
        "\n",
        "Y_test_predict= lin_model.predict(X_test) \n",
        "\n",
        "rsme= (np.sqrt(mean_squared_error(Y_test,Y_test_predict)))\n",
        "\n",
        "print(\"THE MODEL PREFORMANCE FOR TESTING SET\")\n",
        "\n",
        "print('RSME IS {}'.format(rsme))"
      ],
      "execution_count": 40,
      "outputs": [
        {
          "output_type": "stream",
          "text": [
            "['CRIM' 'ZN' 'INDUS' 'CHAS' 'NOX' 'RM' 'AGE' 'DIS' 'RAD' 'TAX' 'PTRATIO'\n",
            " 'B' 'LSTAT']\n",
            "(430, 13)\n",
            "(76, 13)\n",
            "(430,)\n",
            "(76,)\n",
            "THE MODEL PERFORMANCE FOR TRAINING SET\n",
            "RMSE IS 4.710901797319796\n",
            "\n",
            "\n",
            "THE MODEL PREFORMANCE FOR TESTING SET\n",
            "RSME IS 4.687543527902972\n"
          ],
          "name": "stdout"
        }
      ]
    }
  ]
}